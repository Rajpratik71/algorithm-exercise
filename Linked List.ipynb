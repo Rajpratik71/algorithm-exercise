{
  "nbformat": 4,
  "nbformat_minor": 0,
  "metadata": {
    "colab": {
      "name": "Linked List.ipynb",
      "version": "0.3.2",
      "provenance": [],
      "include_colab_link": true
    },
    "kernelspec": {
      "display_name": "Python 3",
      "language": "python",
      "name": "python3"
    }
  },
  "cells": [
    {
      "cell_type": "markdown",
      "metadata": {
        "id": "view-in-github",
        "colab_type": "text"
      },
      "source": [
        "<a href=\"https://colab.research.google.com/github/Rajpratik71/algorithm-exercise/blob/master/Linked%20List.ipynb\" target=\"_parent\"><img src=\"https://colab.research.google.com/assets/colab-badge.svg\" alt=\"Open In Colab\"/></a>"
      ]
    },
    {
      "metadata": {
        "id": "BQodPmPrSrNV",
        "colab_type": "text"
      },
      "cell_type": "markdown",
      "source": [
        "# Linked List - 链表\n",
        "\n",
        "链表是线性表的⼀种。线性表是最基本、最简单、也是最常⽤的⼀种数据结构。线性表中数据元素之\n",
        "间的关系是⼀对⼀的关系，即除了第⼀个和最后⼀个数据元素之外，其它数据元素都是⾸尾相接的。\n",
        "线性表有两种存储⽅式，⼀种是顺序存储结构，另⼀种是链式存储结构。我们常⽤的数组就是⼀种典\n",
        "型的顺序存储结构。\n",
        "\n",
        "相反，链式存储结构就是两个相邻的元素在内存中可能不是相邻的，每⼀个元素都有⼀个指针域，指\n",
        "针域⼀般是存储着到下⼀个元素的指针。这种存储⽅式的优点是定点插⼊和定点删除的时间复杂度为\n",
        "O(1)，不会浪费太多内存，添加元素的时候才会申请内存，删除元素会释放内存。缺点是访问的时间\n",
        "复杂度最坏为 O(n)。\n",
        "\n",
        "顺序表的特性是随机读取，也就是访问⼀个元素的时间复杂度是O(1)，链式表的特性是插⼊和删除的\n",
        "时间复杂度为O(1)。\n",
        "\n",
        "链表就是链式存储的线性表。根据指针域的不同，链表分为单向链表、双向链表、循环链表等等。"
      ]
    },
    {
      "metadata": {
        "id": "2p3i5ZX6SrNc",
        "colab_type": "code",
        "colab": {}
      },
      "cell_type": "code",
      "source": [
        "class ListNode:\n",
        "    def __init__(self, val):\n",
        "        self.val = val\n",
        "        self.next = None"
      ],
      "execution_count": 0,
      "outputs": []
    },
    {
      "metadata": {
        "id": "Imf6XyjgSrNj",
        "colab_type": "text"
      },
      "cell_type": "markdown",
      "source": [
        "反转链表"
      ]
    },
    {
      "metadata": {
        "id": "RDEygKxeSrNm",
        "colab_type": "code",
        "colab": {}
      },
      "cell_type": "code",
      "source": [
        "class ListNode:\n",
        "\n",
        "\n",
        "    def __init__(self, val):\n",
        "        self.val = val\n",
        "        self.next = None\n",
        "    # in python next is a reversed word\n",
        "\n",
        "\n",
        "    def reverse(self, head):\n",
        "        prev = None\n",
        "        while head:\n",
        "            temp = head.next\n",
        "            head.next = prev\n",
        "            prev = head\n",
        "            head = temp\n",
        "        return prev"
      ],
      "execution_count": 0,
      "outputs": []
    },
    {
      "metadata": {
        "id": "S5Nsu-oBSrNu",
        "colab_type": "code",
        "colab": {},
        "outputId": "457fa8c4-ca19-40c9-f522-32accba8bbd7"
      },
      "cell_type": "code",
      "source": [
        "print(ListNode(self, val))"
      ],
      "execution_count": 0,
      "outputs": [
        {
          "output_type": "error",
          "ename": "NameError",
          "evalue": "name 'self' is not defined",
          "traceback": [
            "\u001b[1;31m---------------------------------------------------------------------------\u001b[0m",
            "\u001b[1;31mNameError\u001b[0m                                 Traceback (most recent call last)",
            "\u001b[1;32m<ipython-input-15-9c12ba86f73b>\u001b[0m in \u001b[0;36m<module>\u001b[1;34m()\u001b[0m\n\u001b[1;32m----> 1\u001b[1;33m \u001b[0mprint\u001b[0m\u001b[1;33m(\u001b[0m\u001b[0mListNode\u001b[0m\u001b[1;33m(\u001b[0m\u001b[0mself\u001b[0m\u001b[1;33m,\u001b[0m \u001b[0mval\u001b[0m\u001b[1;33m)\u001b[0m\u001b[1;33m)\u001b[0m\u001b[1;33m\u001b[0m\u001b[0m\n\u001b[0m",
            "\u001b[1;31mNameError\u001b[0m: name 'self' is not defined"
          ]
        }
      ]
    }
  ]
}