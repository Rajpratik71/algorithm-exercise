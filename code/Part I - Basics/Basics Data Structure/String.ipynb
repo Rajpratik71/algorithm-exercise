{
 "cells": [
  {
   "cell_type": "code",
   "execution_count": 1,
   "metadata": {},
   "outputs": [
    {
     "data": {
      "text/plain": [
       "5"
      ]
     },
     "execution_count": 1,
     "metadata": {},
     "output_type": "execute_result"
    }
   ],
   "source": [
    "s1 = str()\n",
    "# in python `''` or `\"\"` is the same\n",
    "s2 = \"shaunwei\" # 'shaunwei'\n",
    "s2len = len(s2)\n",
    "# last 3 chars\n",
    "s2[-3:] # wei\n",
    "s2[5:8] # wei\n",
    "s3 = s2[:5] # shaun\n",
    "s3 += 'wei' # return 'shaunwei'\n",
    "# list in python is same as ArrayList in java\n",
    "s2list = list(s3)\n",
    "# string at index 4\n",
    "s2[4] # 'n'\n",
    "# find index at first\n",
    "s2.index('w') # return 5, if not found, throw ValueError\n",
    "s2.find('w') # return 5, if not found, return -1"
   ]
  },
  {
   "cell_type": "markdown",
   "metadata": {},
   "source": [
    "String 相关的题常出现在⾯试题中，实际开发也经常⽤到，这⾥总结下 C++, Java, Python 中字符串常⽤"
   ]
  },
  {
   "cell_type": "code",
   "execution_count": 5,
   "metadata": {},
   "outputs": [],
   "source": [
    "s2list = list(s3)"
   ]
  },
  {
   "cell_type": "code",
   "execution_count": 4,
   "metadata": {},
   "outputs": [],
   "source": [
    "s2[-3:] # wei\n",
    "s2[5:8] # wei\n",
    "s3 = s2[:5] # shaun\n",
    "s3 += 'wei' # return 'shaunwei'"
   ]
  },
  {
   "cell_type": "code",
   "execution_count": 3,
   "metadata": {},
   "outputs": [],
   "source": [
    "s2 = \"shaunwei\" # 'shaunwei'\n",
    "s2len = len(s2)"
   ]
  },
  {
   "cell_type": "code",
   "execution_count": 2,
   "metadata": {},
   "outputs": [],
   "source": [
    "s1 = str()"
   ]
  }
 ],
 "metadata": {
  "kernelspec": {
   "display_name": "Python 3",
   "language": "python",
   "name": "python3"
  },
  "language_info": {
   "codemirror_mode": {
    "name": "ipython",
    "version": 3
   },
   "file_extension": ".py",
   "mimetype": "text/x-python",
   "name": "python",
   "nbconvert_exporter": "python",
   "pygments_lexer": "ipython3",
   "version": "3.6.6"
  },
  "toc": {
   "base_numbering": 1,
   "nav_menu": {},
   "number_sections": true,
   "sideBar": true,
   "skip_h1_title": false,
   "title_cell": "Table of Contents",
   "title_sidebar": "Contents",
   "toc_cell": false,
   "toc_position": {},
   "toc_section_display": true,
   "toc_window_display": false
  }
 },
 "nbformat": 4,
 "nbformat_minor": 2
}
